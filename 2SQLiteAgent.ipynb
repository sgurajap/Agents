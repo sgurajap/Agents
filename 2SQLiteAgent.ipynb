{
 "cells": [
  {
   "cell_type": "code",
   "execution_count": null,
   "id": "c86ef667-595d-493a-bad8-3207c7e740cb",
   "metadata": {},
   "outputs": [],
   "source": [
    "# Step 1: Install and import Dependencies\n",
    "import os\n",
    "import sqlite3\n",
    "from langchain_community.utilities import SQLDatabase\n",
    "from langchain_openai import ChatOpenAI\n",
    "from langchain_community.agent_toolkits import create_sql_agent\n",
    "from langchain.agents.agent_types import AgentType"
   ]
  },
  {
   "cell_type": "code",
   "execution_count": null,
   "id": "09debe8b-974c-44a7-a70a-6b881e814e7a",
   "metadata": {},
   "outputs": [],
   "source": [
    "# Step 2: Database Setup\n",
    "def setup_database():\n",
    "    \"\"\"\n",
    "    Creates and populates a SQLite database with employees and their managers.\n",
    "    If the database file already exists, it will be deleted and recreated to ensure a clean state.\n",
    "    \"\"\"\n",
    "    db_file = \"company.db\"\n",
    "    # For demonstration purposes, we'll start with a fresh DB each time.\n",
    "    if os.path.exists(db_file):\n",
    "        os.remove(db_file)\n",
    "        print(\"Removed existing database to apply new schema.\")\n",
    "\n",
    "    print(f\"Creating a new database: {db_file}\")\n",
    "    conn = sqlite3.connect(db_file)\n",
    "    cursor = conn.cursor()\n",
    "\n",
    "    # Create the employees table. The 'id' column serves as the employeeID.\n",
    "    cursor.execute('''\n",
    "    CREATE TABLE employees (\n",
    "        id INTEGER PRIMARY KEY AUTOINCREMENT,\n",
    "        name TEXT NOT NULL,\n",
    "        department TEXT NOT NULL,\n",
    "        salary INTEGER NOT NULL\n",
    "    )\n",
    "    ''')\n",
    "    print(\"Table 'employees' created.\")\n",
    "\n",
    "    # Create the manager mapping table.\n",
    "    cursor.execute('''\n",
    "    CREATE TABLE managerMapping (\n",
    "        employeeID INTEGER NOT NULL,\n",
    "        managerID INTEGER NOT NULL,\n",
    "        FOREIGN KEY (employeeID) REFERENCES employees(id),\n",
    "        FOREIGN KEY (managerID) REFERENCES employees(id)\n",
    "    )\n",
    "    ''')\n",
    "    print(\"Table 'managerMapping' created.\")\n",
    "\n",
    "    # Insert sample employee data with a clear hierarchy.\n",
    "    employees = [\n",
    "        ('Charlie', 'Engineering', 120000), # id 1\n",
    "        ('Frank', 'Engineering', 110000),   # id 2\n",
    "        ('Alice', 'Engineering', 90000),    # id 3\n",
    "        ('Grace', 'Human Resources', 100000),# id 4\n",
    "        ('Bob', 'Human Resources', 65000),   # id 5\n",
    "        ('David', 'Sales', 95000),          # id 6\n",
    "        ('Eve', 'Sales', 80000)             # id 7\n",
    "    ]\n",
    "    cursor.executemany('INSERT INTO employees (name, department, salary) VALUES (?, ?, ?)', employees)\n",
    "    print(f\"{len(employees)} records inserted into 'employees'.\")\n",
    "\n",
    "    # Insert manager-reportee relationships.\n",
    "    # (employeeID, managerID)\n",
    "    manager_mappings = [\n",
    "        (3, 1), # Alice reports to Charlie\n",
    "        (2, 1), # Frank reports to Charlie\n",
    "        (5, 4), # Bob reports to Grace\n",
    "        (7, 6)  # Eve reports to David\n",
    "    ]\n",
    "    cursor.executemany('INSERT INTO managerMapping (employeeID, managerID) VALUES (?, ?)', manager_mappings)\n",
    "    print(f\"{len(manager_mappings)} records inserted into 'managerMapping'.\")\n",
    "\n",
    "    conn.commit()\n",
    "    conn.close()\n",
    "    print(\"Database setup complete.\")"
   ]
  },
  {
   "cell_type": "code",
   "execution_count": null,
   "id": "27be3ff1-567e-4ddd-8029-2d0b5774409a",
   "metadata": {},
   "outputs": [],
   "source": [
    "setup_database()"
   ]
  },
  {
   "cell_type": "code",
   "execution_count": null,
   "id": "928818db-e53f-4fba-bd49-4daefe8298a2",
   "metadata": {},
   "outputs": [],
   "source": [
    "# Step 3: Initialize SQLDatabase, LLM, Create SQL Agent\n",
    "db = SQLDatabase.from_uri(\"sqlite:///company.db\")\n",
    "llm = ChatOpenAI(model=\"gpt-3.5-turbo\")\n",
    "agent_executor = create_sql_agent(\n",
    "    llm=llm,\n",
    "    db=db,\n",
    "    agent_type=AgentType.ZERO_SHOT_REACT_DESCRIPTION,\n",
    "    verbose=True, # Set to True to see the agent's thought process\n",
    "    handle_parsing_errors=True # Handles errors if the LLM output cannot be parsed\n",
    ")"
   ]
  },
  {
   "cell_type": "code",
   "execution_count": null,
   "id": "5d055acc-4df9-45af-85ef-2c6258acb167",
   "metadata": {},
   "outputs": [],
   "source": [
    "# Step 4: Define the query_database function\n",
    "def query_database(natural_language_query):\n",
    "    \"\"\"\n",
    "    Takes a natural language query, uses the LangChain agent to get an answer,\n",
    "    and prevents modification queries like UPDATE or DELETE.\n",
    "    \"\"\"\n",
    "    print(f\"\\nProcessing query: '{natural_language_query}'\")\n",
    "\n",
    "    # Check for forbidden keywords to prevent modifications\n",
    "    forbidden_keywords = ['update', 'delete', 'insert', 'drop', 'alter', 'create', 'modify']\n",
    "    query_lower = natural_language_query.lower()\n",
    "    if any(keyword in query_lower for keyword in forbidden_keywords):\n",
    "        print(\"\\nI can only execute SELECT queries. Can't execute updates and deletes.\")\n",
    "        return\n",
    "\n",
    "    try:\n",
    "        # The agent is invoked with the natural language query\n",
    "        result = agent_executor.invoke(natural_language_query)\n",
    "        final_answer = result.get('output', \"Could not find the answer.\")\n",
    "        \n",
    "        # Extract and print the generated SQL query for clarity\n",
    "        if 'intermediate_steps' in result and result['intermediate_steps']:\n",
    "             for step in result['intermediate_steps']:\n",
    "                if isinstance(step[0].tool_input, str) and \"SELECT\" in step[0].tool_input.upper():\n",
    "                    print(f\"\\nGenerated SQL Query:\\n---\\n{step[0].tool_input}\\n---\")\n",
    "                    break\n",
    "\n",
    "        print(f\"\\nAnswer: {final_answer}\")\n",
    "\n",
    "    except Exception as e:\n",
    "        print(f\"An error occurred: {e}\")\n",
    "        print(\"This might be my best guess, or I am unable to predict exactly.\")"
   ]
  },
  {
   "cell_type": "code",
   "execution_count": null,
   "id": "02fd2e37-2b4a-49f1-8e2d-5b5e628ca3c0",
   "metadata": {},
   "outputs": [],
   "source": [
    "# Step 5: Testing the SQL Agent with some queries!\n",
    "# 1. A straightforward query\n",
    "query_database(\"How many employees are in the Engineering department?\")"
   ]
  },
  {
   "cell_type": "code",
   "execution_count": null,
   "id": "52b1674b-b243-4eeb-952f-b8448d37a381",
   "metadata": {},
   "outputs": [],
   "source": [
    "# 2. A query that requires aggregation\n",
    "query_database(\"What is the total salary for the Sales department?\")"
   ]
  },
  {
   "cell_type": "code",
   "execution_count": null,
   "id": "240403ad-4d3a-41a2-bff6-5f8e682c99d4",
   "metadata": {},
   "outputs": [],
   "source": [
    "# 3. A query that lists data\n",
    "query_database(\"List all employees with a salary greater than 90000\")"
   ]
  },
  {
   "cell_type": "code",
   "execution_count": null,
   "id": "eda87cf8-33a7-41e6-9ce9-ea827bf295f9",
   "metadata": {},
   "outputs": [],
   "source": [
    "# 4. A query that requires ordering\n",
    "query_database(\"Who is the highest paid employee?\")"
   ]
  },
  {
   "cell_type": "code",
   "execution_count": null,
   "id": "b635ee94-a34a-493a-abe1-16387809752a",
   "metadata": {},
   "outputs": [],
   "source": [
    "# 5. A query that is outside the scope of the database schema\n",
    "query_database(\"Who is the smartest employee?\")"
   ]
  },
  {
   "cell_type": "code",
   "execution_count": null,
   "id": "da929413-f6dd-4be5-9023-f690fd1583c9",
   "metadata": {},
   "outputs": [],
   "source": [
    "# 6. A vague query where the agent might have to guess\n",
    "query_database(\"Tell me about the employees.\")"
   ]
  },
  {
   "cell_type": "code",
   "execution_count": null,
   "id": "3b418197-5c7a-43a5-8a34-892e6eecb3e1",
   "metadata": {},
   "outputs": [],
   "source": [
    "# 7. Simple manager lookup\n",
    "query_database(\"Who is the manager of Alice?\")"
   ]
  },
  {
   "cell_type": "code",
   "execution_count": null,
   "id": "63b39ebc-c72e-47c4-a486-587ecb940e05",
   "metadata": {},
   "outputs": [],
   "source": [
    "# 8. Listing direct reportees\n",
    "query_database(\"List all employees who report to Charlie\")"
   ]
  },
  {
   "cell_type": "code",
   "execution_count": null,
   "id": "772348ca-c760-4e47-ad31-c06c469482aa",
   "metadata": {},
   "outputs": [],
   "source": [
    "# 9. Finding a manager's manager (multi-level)\n",
    "query_database(\"Who is the manager of manager of Alice - 2nd level manager?\") # This should return no one as Charlie is top-level in this data"
   ]
  },
  {
   "cell_type": "code",
   "execution_count": null,
   "id": "df8238c1-17a4-4a47-9589-fecf25e398c5",
   "metadata": {},
   "outputs": [],
   "source": [
    "# 10. A query that tries to modify data (should be blocked)\n",
    "query_database(\"Delete the employee named Bob\")"
   ]
  },
  {
   "cell_type": "code",
   "execution_count": null,
   "id": "91379eeb-b60c-414c-90db-6a7050d038a3",
   "metadata": {},
   "outputs": [],
   "source": [
    "if __name__ == \"__main__\":\n",
    "    # Allow for user input\n",
    "    print(\"\\n--- Interactive Mode ---\")\n",
    "    print(\"Enter your question in natural language (or type 'exit' to quit).\")\n",
    "    while True:\n",
    "        user_input = input(\"> \")\n",
    "        if user_input.lower() == 'exit':\n",
    "            break\n",
    "        query_database(user_input)"
   ]
  }
 ],
 "metadata": {
  "kernelspec": {
   "display_name": "Python 3 (ipykernel)",
   "language": "python",
   "name": "python3"
  },
  "language_info": {
   "codemirror_mode": {
    "name": "ipython",
    "version": 3
   },
   "file_extension": ".py",
   "mimetype": "text/x-python",
   "name": "python",
   "nbconvert_exporter": "python",
   "pygments_lexer": "ipython3",
   "version": "3.13.4"
  }
 },
 "nbformat": 4,
 "nbformat_minor": 5
}

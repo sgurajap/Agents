{
 "cells": [
  {
   "cell_type": "markdown",
   "id": "d34bf0fe-e657-4a74-8136-000daee08afa",
   "metadata": {},
   "source": [
    "# 1. Agentic RAG"
   ]
  },
  {
   "cell_type": "code",
   "execution_count": null,
   "id": "0e4b2d84-23a2-48ef-8170-458edd9c349e",
   "metadata": {},
   "outputs": [],
   "source": [
    "# Step 1: Install and import Dependencies\n",
    "pip install pypdf\n",
    "pip install faiss-cpu"
   ]
  },
  {
   "cell_type": "code",
   "execution_count": null,
   "id": "a3c954e2-1d98-4317-bf48-50df550d87ab",
   "metadata": {},
   "outputs": [],
   "source": [
    "import os\n",
    "from dotenv import load_dotenv\n",
    "from langchain.document_loaders import PyPDFLoader\n",
    "from langchain.text_splitter import RecursiveCharacterTextSplitter\n",
    "from langchain.embeddings import OpenAIEmbeddings\n",
    "from langchain.vectorstores import FAISS\n",
    "from langchain.chat_models import ChatOpenAI\n",
    "from langchain.chains import RetrievalQA"
   ]
  },
  {
   "cell_type": "code",
   "execution_count": null,
   "id": "80471828-cfdb-4d39-9ee3-6fa5f294b5f4",
   "metadata": {},
   "outputs": [],
   "source": [
    "# Step 2: Load Document\n",
    "loader = PyPDFLoader(\"Environmental_Pollution.pdf\")\n",
    "documents = loader.load()\n",
    "\n",
    "splitter = RecursiveCharacterTextSplitter(chunk_size=1000, chunk_overlap=150)\n",
    "chunks = splitter.split_documents(documents)\n",
    "print(chunks)"
   ]
  },
  {
   "cell_type": "code",
   "execution_count": null,
   "id": "226f5a22-0e0b-4e02-88b2-f5117b43a226",
   "metadata": {},
   "outputs": [],
   "source": [
    "# Step 3: Embed and store in FAISS\n",
    "embeddings = OpenAIEmbeddings()\n",
    "vectorstore = FAISS.from_documents(chunks, embeddings)"
   ]
  },
  {
   "cell_type": "code",
   "execution_count": null,
   "id": "a40d4ca3-3a70-496e-a2d4-7a0fdece6e67",
   "metadata": {},
   "outputs": [],
   "source": [
    "# Step 4: Setup the retriever and LLM QA chain\n",
    "retriever = vectorstore.as_retriever(search_type=\"similarity\", search_kwargs={\"k\": 3})\n",
    "llm = ChatOpenAI(model=\"gpt-3.5-turbo\")\n",
    "qa_chain = RetrievalQA.from_chain_type(llm=llm, retriever=retriever, return_source_documents=True)"
   ]
  },
  {
   "cell_type": "code",
   "execution_count": null,
   "id": "4e93fb50-0f2a-47c7-9c51-e7130801490b",
   "metadata": {},
   "outputs": [],
   "source": [
    "# Step 5: Ask a question\n",
    "query1 = \"What do Automobiles emit from their tail pipes?\"\n",
    "query2 = \"Define pollution and pollutants?\"\n",
    "query3 = \"Types of pollution?\"\n",
    "query4 = \"Whats the Annual average concentration of pollutants in ambient air in residential and industrial areas (year 2000) mg/m3 in 24 hours in Bhopal city?\"\n",
    "query5 = \"Explain Inertial collectors and Scrubbers\"\n",
    "query6 = \"Name any three devices that control pollution\"\n",
    "query7 = \"State two means of controlling indoor air pollution\"\n",
    "query8 = \"What is a PUC certificate?\"\n",
    "query9 = \"Intensity of Lawn Mower?\"\n",
    "query10 = \"Intensity of Lawn Mower and Jet Engine?\"\n",
    "query11 = \"What is noise and in which units it is measured?\"\n",
    "query12 = \"State two harmful effects of noise pollution.\"\n",
    "query13 = \"State two important indoor and two outdoor sources of noise pollution? Mentionmethod of control for each of them.\"\n",
    "query14 = \"Name the metals which when in excess in drinking water cause Minamata and Itai itai diseases.\"\n",
    "query15 = \"What is the capital of Andhra Pradesh?\"\n"
   ]
  },
  {
   "cell_type": "code",
   "execution_count": null,
   "id": "0889501f-f48c-4a99-95dc-be7b1bda1112",
   "metadata": {},
   "outputs": [],
   "source": [
    "result = qa_chain.invoke(query15)\n",
    "print(\"💬 Answer:\\n\", result[\"result\"])\n",
    "print(\"\\n📄 Sources:\")\n",
    "for doc in result[\"source_documents\"]:\n",
    "    print(f\" - Page {doc.metadata['page']}: {doc.page_content[:100]}...\")"
   ]
  }
 ],
 "metadata": {
  "kernelspec": {
   "display_name": "Python 3 (ipykernel)",
   "language": "python",
   "name": "python3"
  },
  "language_info": {
   "codemirror_mode": {
    "name": "ipython",
    "version": 3
   },
   "file_extension": ".py",
   "mimetype": "text/x-python",
   "name": "python",
   "nbconvert_exporter": "python",
   "pygments_lexer": "ipython3",
   "version": "3.13.4"
  }
 },
 "nbformat": 4,
 "nbformat_minor": 5
}
